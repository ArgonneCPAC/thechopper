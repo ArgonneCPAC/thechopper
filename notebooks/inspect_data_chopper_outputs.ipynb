{
 "cells": [
  {
   "cell_type": "code",
   "execution_count": 1,
   "metadata": {},
   "outputs": [],
   "source": [
    "%matplotlib inline"
   ]
  },
  {
   "cell_type": "code",
   "execution_count": 2,
   "metadata": {},
   "outputs": [],
   "source": [
    "import h5py"
   ]
  },
  {
   "cell_type": "code",
   "execution_count": 3,
   "metadata": {},
   "outputs": [],
   "source": [
    "sample0_dummy_data_3 = dict()\n",
    "with h5py.File(\"DATA/sample0_dummy_data_3.h5\", 'r') as hdf:\n",
    "    for key in hdf.keys():\n",
    "        sample0_dummy_data_3[key] = hdf[key][...]"
   ]
  },
  {
   "cell_type": "code",
   "execution_count": 4,
   "metadata": {},
   "outputs": [],
   "source": [
    "data0_subvolID_3 = dict()\n",
    "with h5py.File(\"DATA/data0_subvolID_3_for_rank_0.h5\", 'r') as hdf:\n",
    "    for key in hdf.keys():\n",
    "        data0_subvolID_3[key] = hdf[key][...]\n",
    "        \n",
    "data1_subvolID_3 = dict()\n",
    "with h5py.File(\"DATA/data1_subvolID_3_for_rank_0.h5\", 'r') as hdf:\n",
    "    for key in hdf.keys():\n",
    "        data1_subvolID_3[key] = hdf[key][...]\n",
    "\n",
    "        data0_subvolID_4 = dict()\n",
    "with h5py.File(\"DATA/data0_subvolID_4_for_rank_1.h5\", 'r') as hdf:\n",
    "    for key in hdf.keys():\n",
    "        data0_subvolID_4[key] = hdf[key][...]\n",
    "        \n",
    "data1_subvolID_4 = dict()\n",
    "with h5py.File(\"DATA/data1_subvolID_4_for_rank_1.h5\", 'r') as hdf:\n",
    "    for key in hdf.keys():\n",
    "        data1_subvolID_4[key] = hdf[key][...]\n",
    "\n",
    "        data0_subvolID_5 = dict()\n",
    "with h5py.File(\"DATA/data0_subvolID_5_for_rank_1.h5\", 'r') as hdf:\n",
    "    for key in hdf.keys():\n",
    "        data0_subvolID_5[key] = hdf[key][...]\n",
    "        \n",
    "data1_subvolID_5 = dict()\n",
    "with h5py.File(\"DATA/data1_subvolID_5_for_rank_1.h5\", 'r') as hdf:\n",
    "    for key in hdf.keys():\n",
    "        data1_subvolID_5[key] = hdf[key][...]\n",
    "        \n",
    "data0_subvolID_6 = dict()\n",
    "with h5py.File(\"DATA/data0_subvolID_6_for_rank_1.h5\", 'r') as hdf:\n",
    "    for key in hdf.keys():\n",
    "        data0_subvolID_6[key] = hdf[key][...]\n",
    "        \n",
    "data1_subvolID_6 = dict()\n",
    "with h5py.File(\"DATA/data1_subvolID_6_for_rank_1.h5\", 'r') as hdf:\n",
    "    for key in hdf.keys():\n",
    "        data1_subvolID_6[key] = hdf[key][...]\n",
    "\n",
    "data0_subvolID_7 = dict()\n",
    "with h5py.File(\"DATA/data0_subvolID_7_for_rank_1.h5\", 'r') as hdf:\n",
    "    for key in hdf.keys():\n",
    "        data0_subvolID_7[key] = hdf[key][...]\n",
    "        \n",
    "data1_subvolID_7 = dict()\n",
    "with h5py.File(\"DATA/data1_subvolID_7_for_rank_1.h5\", 'r') as hdf:\n",
    "    for key in hdf.keys():\n",
    "        data1_subvolID_7[key] = hdf[key][...]\n"
   ]
  },
  {
   "cell_type": "code",
   "execution_count": 5,
   "metadata": {},
   "outputs": [
    {
     "name": "stdout",
     "output_type": "stream",
     "text": [
      "data0_subvolID_0_for_rank_0.h5  data1_subvolID_6_for_rank_1.h5\r\n",
      "data0_subvolID_1_for_rank_0.h5  data1_subvolID_7_for_rank_1.h5\r\n",
      "data0_subvolID_2_for_rank_0.h5  sample0_dummy_data_0.h5\r\n",
      "data0_subvolID_3_for_rank_0.h5  sample0_dummy_data_1.h5\r\n",
      "data0_subvolID_4_for_rank_1.h5  sample0_dummy_data_2.h5\r\n",
      "data0_subvolID_5_for_rank_1.h5  sample0_dummy_data_3.h5\r\n",
      "data0_subvolID_6_for_rank_1.h5  sample0_dummy_data_4.h5\r\n",
      "data0_subvolID_7_for_rank_1.h5  sample0_dummy_data_5.h5\r\n",
      "data1_subvolID_0_for_rank_0.h5  sample1_dummy_data_0.h5\r\n",
      "data1_subvolID_1_for_rank_0.h5  sample1_dummy_data_1.h5\r\n",
      "data1_subvolID_2_for_rank_0.h5  sample1_dummy_data_2.h5\r\n",
      "data1_subvolID_3_for_rank_0.h5  sample1_dummy_data_3.h5\r\n",
      "data1_subvolID_4_for_rank_1.h5  sample1_dummy_data_4.h5\r\n",
      "data1_subvolID_5_for_rank_1.h5  sample1_dummy_data_5.h5\r\n"
     ]
    }
   ],
   "source": [
    "ls DATA/"
   ]
  },
  {
   "cell_type": "code",
   "execution_count": 6,
   "metadata": {},
   "outputs": [
    {
     "data": {
      "text/plain": [
       "dict_keys(['core_id', 'mass', 'rank', 'x', 'y', 'z'])"
      ]
     },
     "execution_count": 6,
     "metadata": {},
     "output_type": "execute_result"
    }
   ],
   "source": [
    "sample0_dummy_data_3.keys()"
   ]
  },
  {
   "cell_type": "code",
   "execution_count": null,
   "metadata": {},
   "outputs": [],
   "source": []
  },
  {
   "cell_type": "code",
   "execution_count": 7,
   "metadata": {},
   "outputs": [
    {
     "name": "stdout",
     "output_type": "stream",
     "text": [
      "DATA/data0_subvolID_0_for_rank_0.h5  DATA/data1_subvolID_0_for_rank_0.h5\r\n",
      "DATA/data0_subvolID_1_for_rank_0.h5  DATA/data1_subvolID_1_for_rank_0.h5\r\n",
      "DATA/data0_subvolID_2_for_rank_0.h5  DATA/data1_subvolID_2_for_rank_0.h5\r\n",
      "DATA/data0_subvolID_3_for_rank_0.h5  DATA/data1_subvolID_3_for_rank_0.h5\r\n"
     ]
    }
   ],
   "source": [
    "ls DATA/*_rank_0*"
   ]
  },
  {
   "cell_type": "code",
   "execution_count": 8,
   "metadata": {},
   "outputs": [
    {
     "name": "stdout",
     "output_type": "stream",
     "text": [
      "DATA/data0_subvolID_4_for_rank_1.h5  DATA/data1_subvolID_4_for_rank_1.h5\r\n",
      "DATA/data0_subvolID_5_for_rank_1.h5  DATA/data1_subvolID_5_for_rank_1.h5\r\n",
      "DATA/data0_subvolID_6_for_rank_1.h5  DATA/data1_subvolID_6_for_rank_1.h5\r\n",
      "DATA/data0_subvolID_7_for_rank_1.h5  DATA/data1_subvolID_7_for_rank_1.h5\r\n"
     ]
    }
   ],
   "source": [
    "ls DATA/*_rank_1*"
   ]
  },
  {
   "cell_type": "code",
   "execution_count": 9,
   "metadata": {},
   "outputs": [],
   "source": [
    "from thechopper.data_chopper import get_chopped_data"
   ]
  },
  {
   "cell_type": "code",
   "execution_count": 10,
   "metadata": {},
   "outputs": [],
   "source": [
    "nx, ny, nz = 2, 2, 2\n",
    "period, rmax = 1000, 0\n",
    "columns_to_retrieve = ['mass', 'core_id']\n",
    "chopped_data = get_chopped_data(sample0_dummy_data_3, \n",
    "                                nx, ny, nz, period, rmax, columns_to_retrieve)"
   ]
  },
  {
   "cell_type": "code",
   "execution_count": 11,
   "metadata": {},
   "outputs": [
    {
     "data": {
      "text/plain": [
       "dict_keys(['_iy', '_iz', 'mass', 'core_id', '_ix', 'x', 'y', 'z', '_inside_subvol', '_subvol_indx'])"
      ]
     },
     "execution_count": 11,
     "metadata": {},
     "output_type": "execute_result"
    }
   ],
   "source": [
    "chopped_data.keys()"
   ]
  },
  {
   "cell_type": "code",
   "execution_count": 22,
   "metadata": {},
   "outputs": [
    {
     "data": {
      "image/png": "[encoded data removed]",
      "text/plain": [
       "<Figure size 432x288 with 1 Axes>"
      ]
     },
     "metadata": {
      "needs_background": "light"
     },
     "output_type": "display_data"
    }
   ],
   "source": [
    "fig, ax = plt.subplots(1, 1)\n",
    "xlim = ax.set_xlim(-100, 1100)\n",
    "ylim = ax.set_ylim(-100, 1100)\n",
    "\n",
    "__=ax.scatter(chopped_data['x'][0], chopped_data['y'][0], s=1, color=mblue)\n",
    "__=ax.scatter(chopped_data['x'][1], chopped_data['y'][1], s=1, color=mgreen)\n",
    "__=ax.scatter(chopped_data['x'][2], chopped_data['y'][2], s=1, color=morange)\n",
    "__=ax.scatter(chopped_data['x'][7], chopped_data['y'][7], s=1, color=mred)\n"
   ]
  },
  {
   "cell_type": "code",
   "execution_count": 13,
   "metadata": {},
   "outputs": [
    {
     "data": {
      "text/plain": [
       "8"
      ]
     },
     "execution_count": 13,
     "metadata": {},
     "output_type": "execute_result"
    }
   ],
   "source": [
    "len(chopped_data['x'])"
   ]
  },
  {
   "cell_type": "code",
   "execution_count": null,
   "metadata": {},
   "outputs": [],
   "source": []
  },
  {
   "cell_type": "code",
   "execution_count": null,
   "metadata": {},
   "outputs": [],
   "source": []
  },
  {
   "cell_type": "code",
   "execution_count": null,
   "metadata": {},
   "outputs": [],
   "source": []
  },
  {
   "cell_type": "code",
   "execution_count": null,
   "metadata": {},
   "outputs": [],
   "source": []
  },
  {
   "cell_type": "code",
   "execution_count": null,
   "metadata": {},
   "outputs": [],
   "source": []
  },
  {
   "cell_type": "code",
   "execution_count": 14,
   "metadata": {},
   "outputs": [
    {
     "data": {
      "image/png": "[encoded data removed]",
      "text/plain": [
       "<Figure size 432x288 with 1 Axes>"
      ]
     },
     "metadata": {
      "needs_background": "light"
     },
     "output_type": "display_data"
    }
   ],
   "source": [
    "fig, ax = plt.subplots(1, 1)\n",
    "xlim = ax.set_xlim(-100, 1100)\n",
    "ylim = ax.set_ylim(-100, 1100)\n",
    "# xlim = ax.set_xlim(450, 650)\n",
    "# ylim = ax.set_ylim(450, 650)\n",
    "\n",
    "__=ax.scatter(data0_subvolID_7['x'], data0_subvolID_7['y'], s=1, color=mred)\n",
    "__=ax.scatter(data0_subvolID_6['x'], data0_subvolID_6['y'], s=1, color=morange)\n",
    "__=ax.scatter(data0_subvolID_5['x'], data0_subvolID_5['y'], s=1, color=mgreen)\n",
    "__=ax.scatter(data0_subvolID_4['x'], data0_subvolID_4['y'], s=1, color=mblue)\n",
    "__=ax.scatter(sample0_dummy_data_3['x'], sample0_dummy_data_3['y'], s=1, color='k')\n"
   ]
  },
  {
   "cell_type": "code",
   "execution_count": 15,
   "metadata": {},
   "outputs": [
    {
     "data": {
      "text/plain": [
       "(227.80142, 683.39984)"
      ]
     },
     "execution_count": 15,
     "metadata": {},
     "output_type": "execute_result"
    }
   ],
   "source": [
    "sample0_dummy_data_3['x'].min(), sample0_dummy_data_3['x'].max()"
   ]
  },
  {
   "cell_type": "code",
   "execution_count": 16,
   "metadata": {},
   "outputs": [
    {
     "data": {
      "text/plain": [
       "(500.02288818359375, 683.09326171875)"
      ]
     },
     "execution_count": 16,
     "metadata": {},
     "output_type": "execute_result"
    }
   ],
   "source": [
    "data0_subvolID_7['x'].min(), data0_subvolID_7['x'].max()"
   ]
  },
  {
   "cell_type": "code",
   "execution_count": 17,
   "metadata": {},
   "outputs": [
    {
     "data": {
      "text/plain": [
       "(500.1296691894531, 683.3998413085938)"
      ]
     },
     "execution_count": 17,
     "metadata": {},
     "output_type": "execute_result"
    }
   ],
   "source": [
    "data0_subvolID_6['x'].min(), data0_subvolID_6['x'].max()"
   ]
  },
  {
   "cell_type": "code",
   "execution_count": 18,
   "metadata": {},
   "outputs": [
    {
     "data": {
      "text/plain": [
       "(500.0050048828125, 683.2799072265625)"
      ]
     },
     "execution_count": 18,
     "metadata": {},
     "output_type": "execute_result"
    }
   ],
   "source": [
    "data0_subvolID_5['x'].min(), data0_subvolID_5['x'].max()"
   ]
  },
  {
   "cell_type": "code",
   "execution_count": 19,
   "metadata": {},
   "outputs": [
    {
     "data": {
      "text/plain": [
       "(500.019775390625, 683.128662109375)"
      ]
     },
     "execution_count": 19,
     "metadata": {},
     "output_type": "execute_result"
    }
   ],
   "source": [
    "data0_subvolID_4['x'].min(), data0_subvolID_4['x'].max()"
   ]
  },
  {
   "cell_type": "code",
   "execution_count": 20,
   "metadata": {},
   "outputs": [
    {
     "ename": "NameError",
     "evalue": "name 'data0_subvolID_2' is not defined",
     "output_type": "error",
     "traceback": [
      "\u001b[0;31m---------------------------------------------------------------------------\u001b[0m",
      "\u001b[0;31mNameError\u001b[0m                                 Traceback (most recent call last)",
      "\u001b[0;32m<ipython-input-20-6d42291623b2>\u001b[0m in \u001b[0;36m<module>\u001b[0;34m\u001b[0m\n\u001b[0;32m----> 1\u001b[0;31m \u001b[0mdata0_subvolID_2\u001b[0m\u001b[0;34m[\u001b[0m\u001b[0;34m'x'\u001b[0m\u001b[0;34m]\u001b[0m\u001b[0;34m.\u001b[0m\u001b[0mmin\u001b[0m\u001b[0;34m(\u001b[0m\u001b[0;34m)\u001b[0m\u001b[0;34m,\u001b[0m \u001b[0mdata0_subvolID_2\u001b[0m\u001b[0;34m[\u001b[0m\u001b[0;34m'x'\u001b[0m\u001b[0;34m]\u001b[0m\u001b[0;34m.\u001b[0m\u001b[0mmax\u001b[0m\u001b[0;34m(\u001b[0m\u001b[0;34m)\u001b[0m\u001b[0;34m\u001b[0m\u001b[0;34m\u001b[0m\u001b[0m\n\u001b[0m",
      "\u001b[0;31mNameError\u001b[0m: name 'data0_subvolID_2' is not defined"
     ]
    }
   ],
   "source": [
    "data0_subvolID_2['x'].min(), data0_subvolID_2['x'].max()"
   ]
  },
  {
   "cell_type": "code",
   "execution_count": null,
   "metadata": {},
   "outputs": [],
   "source": []
  }
 ],
 "metadata": {
  "kernelspec": {
   "display_name": "Python 3",
   "language": "python",
   "name": "python3"
  },
  "language_info": {
   "codemirror_mode": {
    "name": "ipython",
    "version": 3
   },
   "file_extension": ".py",
   "mimetype": "text/x-python",
   "name": "python",
   "nbconvert_exporter": "python",
   "pygments_lexer": "ipython3",
   "version": "3.7.3"
  }
 },
 "nbformat": 4,
 "nbformat_minor": 2
}
